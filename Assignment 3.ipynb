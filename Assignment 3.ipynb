{
 "cells": [
  {
   "cell_type": "markdown",
   "metadata": {},
   "source": [
    "# Task 1 Calculator"
   ]
  },
  {
   "cell_type": "code",
   "execution_count": 24,
   "metadata": {},
   "outputs": [
    {
     "name": "stdout",
     "output_type": "stream",
     "text": [
      "Enter First Number : 5\n",
      "Enter Second Number : 7\n",
      "Enter Operator : *\n",
      "\n",
      "\n",
      "5  *  7  =  35\n"
     ]
    }
   ],
   "source": [
    "num1 = int(input(\"Enter First Number : \"))\n",
    "num2 = int(input(\"Enter Second Number : \"))\n",
    "opr = input(\"Enter Operator : \")\n",
    "print(\"\\n\")\n",
    "if(opr == \"+\"):\n",
    "    print(num1 , \" + \", num2 ,\" = \",num1+num2)\n",
    "elif(opr == \"-\"):\n",
    "    print(num1 , \" - \", num2 ,\" = \",num1-num2)\n",
    "elif(opr == \"/\"):\n",
    "    print(num1 , \" / \", num2 ,\" = \",num1/num2)\n",
    "elif(opr == \"*\"):\n",
    "    print(num1 , \" * \", num2 ,\" = \",num1*num2)\n",
    "else:\n",
    "    print(\"Enter Valid \")"
   ]
  },
  {
   "cell_type": "markdown",
   "metadata": {},
   "source": [
    "# Task 2"
   ]
  },
  {
   "cell_type": "code",
   "execution_count": 32,
   "metadata": {},
   "outputs": [
    {
     "name": "stdout",
     "output_type": "stream",
     "text": [
      "Yes\n"
     ]
    }
   ],
   "source": [
    "list = [\"A\",True,\"B\",False,1,\"True\",True]\n",
    "is_numeric = False\n",
    "for x in list:\n",
    "    if(type(x) == type(1)):\n",
    "        is_numeric = True\n",
    "        break\n",
    "if(is_numeric):\n",
    "    print(\"Yes\")\n",
    "else:\n",
    "    print(\"No\")"
   ]
  },
  {
   "cell_type": "markdown",
   "metadata": {},
   "source": [
    "# Task 3"
   ]
  },
  {
   "cell_type": "code",
   "execution_count": 34,
   "metadata": {},
   "outputs": [
    {
     "data": {
      "text/plain": [
       "{'A': 'Apple', 'B': 'Ball', 'C': 'Cat', 'D': 'Dog'}"
      ]
     },
     "execution_count": 34,
     "metadata": {},
     "output_type": "execute_result"
    }
   ],
   "source": [
    "dictionary = {\"A\":\"Apple\",\"B\":\"Ball\",\"C\":\"Cat\"}\n",
    "dictionary[\"D\"] = \"Dog\"\n",
    "dictionary"
   ]
  },
  {
   "cell_type": "markdown",
   "metadata": {},
   "source": [
    "# Task 4"
   ]
  },
  {
   "cell_type": "code",
   "execution_count": 39,
   "metadata": {},
   "outputs": [
    {
     "name": "stdout",
     "output_type": "stream",
     "text": [
      "285\n"
     ]
    }
   ],
   "source": [
    "dic = {\"name\":\"Abc\",\"Class\":\"5th\",\"Enlish\":87,\"Math\":98,\"ICT\":100}\n",
    "total = 0\n",
    "for x in dic:\n",
    "    if(type(dic[x]) == type(0)):\n",
    "        total = total + dic[x]\n",
    "print(total)"
   ]
  },
  {
   "cell_type": "markdown",
   "metadata": {},
   "source": [
    "# Task 5"
   ]
  },
  {
   "cell_type": "code",
   "execution_count": 77,
   "metadata": {},
   "outputs": [
    {
     "name": "stdout",
     "output_type": "stream",
     "text": [
      "1 5 9 "
     ]
    }
   ],
   "source": [
    "list = [1,1,2,3,4,5,5,6,7,8,0,9,9]\n",
    "i=0\n",
    "length = len(list)\n",
    "for i in range(length-1):\n",
    "    for j in range(i+1,length):\n",
    "            if(list[i] == list[j]):\n",
    "                print(list[i],end=\" \")\n",
    "                break"
   ]
  },
  {
   "cell_type": "markdown",
   "metadata": {},
   "source": [
    "# Task 6"
   ]
  },
  {
   "cell_type": "code",
   "execution_count": 86,
   "metadata": {},
   "outputs": [
    {
     "name": "stdout",
     "output_type": "stream",
     "text": [
      "{'A': 'Apple', 'B': 'Ball', 'C': 'Cat', 'D': 'Dog'}\n",
      "Enter Key K\n",
      "False\n"
     ]
    }
   ],
   "source": [
    "print(dictionary)\n",
    "key = input(\"Enter Key \")\n",
    "contains = False\n",
    "for k in dictionary:\n",
    "    if(k == key):\n",
    "        print(\"True\")\n",
    "        contains = True\n",
    "if(contains == False):\n",
    "    print(\"False\")"
   ]
  }
 ],
 "metadata": {
  "kernelspec": {
   "display_name": "Python 3",
   "language": "python",
   "name": "python3"
  },
  "language_info": {
   "codemirror_mode": {
    "name": "ipython",
    "version": 3
   },
   "file_extension": ".py",
   "mimetype": "text/x-python",
   "name": "python",
   "nbconvert_exporter": "python",
   "pygments_lexer": "ipython3",
   "version": "3.7.3"
  }
 },
 "nbformat": 4,
 "nbformat_minor": 2
}
