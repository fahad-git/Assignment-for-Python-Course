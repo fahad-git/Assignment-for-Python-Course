{
 "cells": [
  {
   "cell_type": "markdown",
   "metadata": {},
   "source": [
    "# Task 1"
   ]
  },
  {
   "cell_type": "code",
   "execution_count": 21,
   "metadata": {},
   "outputs": [
    {
     "name": "stdout",
     "output_type": "stream",
     "text": [
      "English\t:\t70\n",
      "Maths\t:\t60\n",
      "Science\t:\t35\n",
      "Philosophy\t:\t90\n",
      "Programming\t:\t56\n",
      "marks : 311 Grade : C\n"
     ]
    }
   ],
   "source": [
    "subjects = [\"English\", \"Maths\",\"Science\",\"Philosophy\",\"Programming\"] \n",
    "total_marks = 0 \n",
    "obtained_marks = 0\n",
    "\n",
    "for i in range(5): \n",
    "    obtained_marks = obtained_marks + int(input(subjects[i]+\"\\t:\\t\")) \n",
    "    total_marks = total_marks +100\n",
    "percentage = (obtained_marks/total_marks) * 100\n",
    "if(percentage >= 90):\n",
    "    grade = \"A+\"\n",
    "elif(percentage >= 80):\n",
    "    grade = \"A\"\n",
    "elif(percentage >= 70):\n",
    "    grade = \"B\"\n",
    "elif(percentage >= 60):\n",
    "    grade = \"C\"\n",
    "else:\n",
    "    grade = \"F\"\n",
    "\n",
    "print(\"marks : \"+str(obtained_marks)+\" Grade : \"+str(grade))"
   ]
  },
  {
   "cell_type": "markdown",
   "metadata": {},
   "source": [
    "# Task 2"
   ]
  },
  {
   "cell_type": "code",
   "execution_count": 22,
   "metadata": {},
   "outputs": [
    {
     "name": "stdout",
     "output_type": "stream",
     "text": [
      "Enter number : 5\n",
      "\n",
      "Given number is odd!\n"
     ]
    }
   ],
   "source": [
    "number = int(input(\"Enter number : \"))\n",
    "if(number%2 == 0):\n",
    "    print(\"\\nGiven number us even!\")\n",
    "else:\n",
    "    print(\"\\nGiven number is odd!\")"
   ]
  },
  {
   "cell_type": "markdown",
   "metadata": {},
   "source": [
    "# Task 3"
   ]
  },
  {
   "cell_type": "code",
   "execution_count": 24,
   "metadata": {},
   "outputs": [
    {
     "data": {
      "text/plain": [
       "3"
      ]
     },
     "execution_count": 24,
     "metadata": {},
     "output_type": "execute_result"
    }
   ],
   "source": [
    "list = [\"A\",\"B\",\"C\"]\n",
    "len(list)"
   ]
  },
  {
   "cell_type": "markdown",
   "metadata": {},
   "source": [
    "\n",
    "# Task 4"
   ]
  },
  {
   "cell_type": "code",
   "execution_count": 37,
   "metadata": {},
   "outputs": [
    {
     "data": {
      "text/plain": [
       "15"
      ]
     },
     "execution_count": 37,
     "metadata": {},
     "output_type": "execute_result"
    }
   ],
   "source": [
    "list = [\"Hello\",1,2,3,4,\"World\",5]\n",
    "sum = 0\n",
    "for i in range(len(list)):\n",
    "    if(type(list[i]) == type(1)):\n",
    "        sum = sum + list[i]\n",
    "sum"
   ]
  },
  {
   "cell_type": "markdown",
   "metadata": {},
   "source": [
    "# Task 5"
   ]
  },
  {
   "cell_type": "code",
   "execution_count": 52,
   "metadata": {},
   "outputs": [
    {
     "name": "stdout",
     "output_type": "stream",
     "text": [
      "First way :  9\n",
      "9\n"
     ]
    }
   ],
   "source": [
    "list = [1,2,8,3,4,9,5,6,7]\n",
    "\n",
    "print(\"First way : \",max(list))\n",
    "\n",
    "list.sort()\n",
    "print(\"Second way : \",list.pop())"
   ]
  },
  {
   "cell_type": "markdown",
   "metadata": {},
   "source": [
    "# Task 6"
   ]
  },
  {
   "cell_type": "code",
   "execution_count": 79,
   "metadata": {},
   "outputs": [
    {
     "name": "stdout",
     "output_type": "stream",
     "text": [
      "0 1 2 3 4 "
     ]
    }
   ],
   "source": [
    "a = [1,1,2,3,4,8,13,21,34,55,89]\n",
    "for i in range(len(a)):\n",
    "    if(a[i] >= 5):\n",
    "        continue\n",
    "    else:\n",
    "        print(i,end=\" \")"
   ]
  }
 ],
 "metadata": {
  "kernelspec": {
   "display_name": "Python 3",
   "language": "python",
   "name": "python3"
  }
 },
 "nbformat": 4,
 "nbformat_minor": 2
}
