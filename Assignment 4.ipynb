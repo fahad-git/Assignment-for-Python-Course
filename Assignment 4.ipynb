{
 "cells": [
  {
   "cell_type": "markdown",
   "metadata": {},
   "source": [
    "# Quiz App"
   ]
  },
  {
   "cell_type": "code",
   "execution_count": 31,
   "metadata": {},
   "outputs": [
    {
     "name": "stdout",
     "output_type": "stream",
     "text": [
      "1  :  Who has been appointed as the new chairman of Central Board of Indirect taxes and Customs (CBIC)?\n",
      "[A]Johnjoseph\n",
      "[B]VanajaN.Sarna\n",
      "[C]MahenderSingh\n",
      "[D] S Ramesh\n",
      "\n",
      "Enter your answer a\n",
      "Incorrect\n",
      "\n",
      "2  :  Who has been appointed as the acting Chairman of the Union Public Service Commission (UPSC)?\n",
      "[A]ArvindSaxena\n",
      "[B]SudhaJain\n",
      "[C]KirtiKumar\n",
      "[D] Omi Agrawal\n",
      "\n",
      "Enter your answer b\n",
      "Incorrect\n",
      "\n",
      "3  :   Pappu Karki, the popular Kumaoni folk singer has passed away. He was native of which state?\n",
      "[A]Jammu&Kashmir\n",
      "[B]HimachalPradesh\n",
      "[C]Uttarakhand\n",
      "[D] Assam\n",
      "\n",
      "Enter your answer a\n",
      "Incorrect\n",
      "\n",
      "4  :  India’s first-ever national police museum will establish in which city?\n",
      "[A]Chennai\n",
      "[B]Delhi\n",
      "[C]Nagpur\n",
      "[D] Kolkata\n",
      "\n",
      "Enter your answer b\n",
      "correct\n",
      "\n",
      "5  :  The Central Vigilance Commission (CVC) is in news for appointing Sharad Kumar as new Vigilance Commissioner. As per which committee’s recommendations, the CVC was set up?\n",
      "[A]NittoorSrinivasaRaucommiittee\n",
      "[B]TejendraMohanBhasincommiittee\n",
      "[C]KVChowdarycommiittee\n",
      "[D] K Santhanam commiittee\n",
      "\n",
      "Enter your answer a\n",
      "Incorrect\n",
      "\n",
      "\n",
      "Your score :  10\n"
     ]
    }
   ],
   "source": [
    "score = 0\n",
    "questions = {\n",
    "    1 : {\n",
    "        \"question\" : \"Who has been appointed as the new chairman of Central Board of Indirect taxes and Customs (CBIC)?\",\n",
    "        \"options\" : [\"[A]Johnjoseph\",\"[B]VanajaN.Sarna\",\"[C]MahenderSingh\",\"[D] S Ramesh\"],\n",
    "        \"answer\" : \"d\"\n",
    "        },\n",
    "    2 : {\n",
    "        \"question\" : \"Who has been appointed as the acting Chairman of the Union Public Service Commission (UPSC)?\",\n",
    "        \"options\" : [\"[A]ArvindSaxena\",\"[B]SudhaJain\",\"[C]KirtiKumar\",\"[D] Omi Agrawal\"],\n",
    "        \"answer\" : \"a\"\n",
    "        },\n",
    "    3 : {\n",
    "        \"question\" : \" Pappu Karki, the popular Kumaoni folk singer has passed away. He was native of which state?\",\n",
    "        \"options\" : [\"[A]Jammu&Kashmir\",\"[B]HimachalPradesh\",\"[C]Uttarakhand\",\"[D] Assam\"],\n",
    "        \"answer\" : \"c\"\n",
    "        },\n",
    "    4 : {\n",
    "        \"question\" : \"India’s first-ever national police museum will establish in which city?\",\n",
    "        \"options\" : [\"[A]Chennai\",\"[B]Delhi\",\"[C]Nagpur\",\"[D] Kolkata\"],\n",
    "        \"answer\" : \"b\"\n",
    "        },\n",
    "    5 : {\n",
    "        \"question\" : \"The Central Vigilance Commission (CVC) is in news for appointing Sharad Kumar as new Vigilance Commissioner. As per which committee’s recommendations, the CVC was set up?\",\n",
    "        \"options\" : [\"[A]NittoorSrinivasaRaucommiittee\",\"[B]TejendraMohanBhasincommiittee\",\"[C]KVChowdarycommiittee\",\"[D] K Santhanam commiittee\"],\n",
    "        \"answer\" : \"d\"\n",
    "        }\n",
    "}\n",
    "score = 0\n",
    "counter = 1\n",
    "\n",
    "for no,question in questions.items():\n",
    "    print(no,\" : \",end=\" \")\n",
    "    print(question[\"question\"])\n",
    "    for option in question[\"options\"]:\n",
    "        print(option)\n",
    "    ans = input(\"\\nEnter your answer \")\n",
    "    if(ans == question[\"answer\"]):\n",
    "        print(\"correct\\n\")\n",
    "        score += 10\n",
    "    else:\n",
    "        print(\"Incorrect\\n\")\n",
    "print(\"\\nYour score : \",score)"
   ]
  }
 ],
 "metadata": {
  "kernelspec": {
   "display_name": "Python 3",
   "language": "python",
   "name": "python3"
  },
  "language_info": {
   "codemirror_mode": {
    "name": "ipython",
    "version": 3
   },
   "file_extension": ".py",
   "mimetype": "text/x-python",
   "name": "python",
   "nbconvert_exporter": "python",
   "pygments_lexer": "ipython3",
   "version": "3.7.3"
  }
 },
 "nbformat": 4,
 "nbformat_minor": 2
}
