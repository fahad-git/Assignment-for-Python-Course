{
 "cells": [
  {
   "cell_type": "markdown",
   "metadata": {},
   "source": [
    "# Question 1"
   ]
  },
  {
   "cell_type": "code",
   "execution_count": null,
   "metadata": {},
   "outputs": [],
   "source": [
    "# Object Oriented Programming Language is a language that replicates the real world.It uses the concept of \n",
    "# real world objects and classes. It has four basic pillers including Polimorphism, Inheritance, Abstraction and \n",
    "# Encapsulation"
   ]
  },
  {
   "cell_type": "markdown",
   "metadata": {},
   "source": [
    "# Question 2"
   ]
  },
  {
   "cell_type": "code",
   "execution_count": null,
   "metadata": {},
   "outputs": [],
   "source": [
    "# It makes programming concepts and real world scenarios easy to understand\n",
    "# It provide data securing and validation through encapsulation\n",
    "# It gives clear concept of real world inheritance"
   ]
  },
  {
   "cell_type": "markdown",
   "metadata": {},
   "source": [
    "# Question 3"
   ]
  },
  {
   "cell_type": "code",
   "execution_count": null,
   "metadata": {},
   "outputs": [],
   "source": [
    "# A function is a piece of code that can be reuse at anytime.Where as a method is a piece of code that can be \n",
    "# reuse but it always assoiate with an object and it can only access data in which class it resides."
   ]
  },
  {
   "cell_type": "markdown",
   "metadata": {},
   "source": [
    "# Question 4"
   ]
  },
  {
   "cell_type": "code",
   "execution_count": null,
   "metadata": {},
   "outputs": [],
   "source": [
    "# Class : A class is a blue print or a template from which objects are created.\n",
    "# Objet : An object is an instance of a class.\n",
    "# Attribute : Attribute is a property of an object. It is a variable that is associate with an object.\n",
    "# Behavior : Behavior refers to the actions that an object can take."
   ]
  },
  {
   "cell_type": "markdown",
   "metadata": {},
   "source": [
    "# Question 5"
   ]
  },
  {
   "cell_type": "code",
   "execution_count": 6,
   "metadata": {},
   "outputs": [],
   "source": [
    "class Car():\n",
    "    def __init__(self,name,model,color,weight,price):\n",
    "        self.name = name\n",
    "        self.model = model\n",
    "        self.color = color\n",
    "        self.weight = weight\n",
    "        self.price = price\n",
    "        \n",
    "    def updatePrice(self,new_value):\n",
    "        self.price = new_value\n",
    "    \n",
    "    def getCarModel(self):\n",
    "        return self.model\n",
    "    \n",
    "    def getCarBasicInfo(self):\n",
    "        return self.name,self.model,self.color"
   ]
  },
  {
   "cell_type": "code",
   "execution_count": 15,
   "metadata": {},
   "outputs": [
    {
     "name": "stdout",
     "output_type": "stream",
     "text": [
      "Car1\n",
      "Name : Carola\n",
      "Model: XLI 2019\n",
      "Color : White\n",
      "\n",
      "\n",
      "Car2\n",
      "Name : Carola\n",
      "Model: GLI 2019\n",
      "Color : Black\n",
      "\n",
      "\n",
      "Car3\n",
      "Name : Mehran\n",
      "Model: 2017\n",
      "Color : White\n",
      "\n",
      "\n",
      "Car4\n",
      "Name : Alto\n",
      "Model: 2019\n",
      "Color : Grey\n",
      "\n",
      "\n",
      "Car5\n",
      "Name : Carola\n",
      "Model: 2019\n",
      "Color : White\n",
      "\n",
      "\n"
     ]
    }
   ],
   "source": [
    "car1 = Car(\"Carola\",\"XLI 2019\",\"White\",\"1300 kg\",2800000)\n",
    "\n",
    "name,model,color = car1.getCarBasicInfo()\n",
    "print(\"Car1\\nName : {}\\nModel: {}\\nColor : {}\\n\\n\".format(name,model,color))\n",
    "\n",
    "\n",
    "car2 = Car(\"Carola\",\"GLI 2019\",\"Black\",\"1300 kg\",2800000)\n",
    "\n",
    "name,model,color = car2.getCarBasicInfo()\n",
    "print(\"Car2\\nName : {}\\nModel: {}\\nColor : {}\\n\\n\".format(name,model,color))\n",
    "\n",
    "\n",
    "car3 = Car(\"Mehran\",\"2017\",\"White\",\"1000 kg\",800000)\n",
    "\n",
    "name,model,color = car3.getCarBasicInfo()\n",
    "print(\"Car3\\nName : {}\\nModel: {}\\nColor : {}\\n\\n\".format(name,model,color))\n",
    "\n",
    "\n",
    "car4 = Car(\"Alto\",\"2019\",\"Grey\",\"900 kg\",1200000)\n",
    "\n",
    "name,model,color = car4.getCarBasicInfo()\n",
    "print(\"Car4\\nName : {}\\nModel: {}\\nColor : {}\\n\\n\".format(name,model,color))\n",
    "\n",
    "\n",
    "car5 = Car(\"Carola\",\"2019\",\"White\",\"1300 kg\",1200000)\n",
    "\n",
    "name,model,color = car5.getCarBasicInfo()\n",
    "print(\"Car5\\nName : {}\\nModel: {}\\nColor : {}\\n\\n\".format(name,model,color))"
   ]
  }
 ],
 "metadata": {
  "kernelspec": {
   "display_name": "Python 3",
   "language": "python",
   "name": "python3"
  },
  "language_info": {
   "codemirror_mode": {
    "name": "ipython",
    "version": 3
   },
   "file_extension": ".py",
   "mimetype": "text/x-python",
   "name": "python",
   "nbconvert_exporter": "python",
   "pygments_lexer": "ipython3",
   "version": "3.7.3"
  }
 },
 "nbformat": 4,
 "nbformat_minor": 2
}
