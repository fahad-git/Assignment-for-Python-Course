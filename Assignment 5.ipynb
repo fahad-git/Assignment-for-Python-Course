{
 "cells": [
  {
   "cell_type": "markdown",
   "metadata": {},
   "source": [
    "# Task 1"
   ]
  },
  {
   "cell_type": "code",
   "execution_count": 13,
   "metadata": {},
   "outputs": [
    {
     "name": "stdout",
     "output_type": "stream",
     "text": [
      "120\n"
     ]
    }
   ],
   "source": [
    "def factorial(number=0):\n",
    "    if number == 0:\n",
    "        return 1\n",
    "    \n",
    "    fact = 1\n",
    "    for i in range(1,number+1):\n",
    "        fact = fact * i\n",
    "        \n",
    "    return fact\n",
    "\n",
    "print(factorial(5))"
   ]
  },
  {
   "cell_type": "markdown",
   "metadata": {},
   "source": [
    "# Task 2"
   ]
  },
  {
   "cell_type": "code",
   "execution_count": 1,
   "metadata": {},
   "outputs": [
    {
     "name": "stdout",
     "output_type": "stream",
     "text": [
      "Enter string Hello World\n",
      "Capital :  2\n",
      "Small :  8\n"
     ]
    }
   ],
   "source": [
    "capital = ['A','B','C','D','E','F','G','H','I','J','K','L','M','N','O','P','Q','R','S','T','U','V','W','X','Y','Z']\n",
    "small = ['a','b','c','d','e','f','g','h','i','j','k','l','m','n','o','p','q','r','s','t','u','v','w','x','y','z']\n",
    "\n",
    "given_string = input(\"Enter string \")\n",
    "count_small=0\n",
    "count_capital = 0\n",
    "\n",
    "for c in given_string:\n",
    "    if c in capital:\n",
    "        count_capital = count_capital + 1\n",
    "    elif c in small:\n",
    "        count_small = count_small + 1\n",
    "\n",
    "print(\"Capital : \",count_capital)\n",
    "print(\"Small : \",count_small)"
   ]
  },
  {
   "cell_type": "markdown",
   "metadata": {},
   "source": [
    "# Task 3"
   ]
  },
  {
   "cell_type": "code",
   "execution_count": 4,
   "metadata": {},
   "outputs": [
    {
     "name": "stdout",
     "output_type": "stream",
     "text": [
      "2 , 4 , 6 , 8 , 10 , "
     ]
    }
   ],
   "source": [
    "def print_even(list):\n",
    "    for num in list:\n",
    "        if(num % 2 == 0):\n",
    "            print(num,end=\" , \")\n",
    "\n",
    "print_even([1,2,3,4,6,5,7,8,10,9])"
   ]
  },
  {
   "cell_type": "markdown",
   "metadata": {},
   "source": [
    "# Task 4"
   ]
  },
  {
   "cell_type": "code",
   "execution_count": 27,
   "metadata": {},
   "outputs": [
    {
     "name": "stdout",
     "output_type": "stream",
     "text": [
      "Give me a string madam\n",
      "Palindrome\n"
     ]
    }
   ],
   "source": [
    "def isPalindrome():\n",
    "    userInput = input(\"Give me a string \")\n",
    "    j = len(userInput)-1\n",
    "    flag = False\n",
    "\n",
    "    for i in range(len(userInput)):\n",
    "        if userInput[i] != userInput[j]:\n",
    "            flag = True\n",
    "            break\n",
    "        j = j - 1\n",
    "    if flag:\n",
    "        print(\"Not Palindrome\")\n",
    "    else:\n",
    "        print(\"Palindrome\")\n",
    "        \n",
    "        \n",
    "isPalindrome()   "
   ]
  },
  {
   "cell_type": "markdown",
   "metadata": {},
   "source": [
    "# Task 5"
   ]
  },
  {
   "cell_type": "code",
   "execution_count": 59,
   "metadata": {},
   "outputs": [
    {
     "name": "stdout",
     "output_type": "stream",
     "text": [
      "1   :  This is Prime Number\n",
      "2   :  This is not Prime Number\n",
      "3   :  This is Prime Number\n",
      "4   :  This is not Prime Number\n",
      "5   :  This is Prime Number\n",
      "6   :  This is not Prime Number\n",
      "7   :  This is Prime Number\n",
      "8   :  This is not Prime Number\n",
      "9   :  This is not Prime Number\n"
     ]
    }
   ],
   "source": [
    "def isPrime(num):\n",
    "    if(num == 2):\n",
    "        print(\"This is not Prime Number\")\n",
    "        return\n",
    "    \n",
    "    flag = True\n",
    "    for i in range(2,num):\n",
    "        if num % i == 0:\n",
    "            flag = False\n",
    "            break\n",
    "    if flag:\n",
    "        print(\"This is Prime Number\")\n",
    "    else:\n",
    "        print(\"This is not Prime Number\")\n",
    "\n",
    "for p in range(1,10):\n",
    "    print(p, \"  : \" ,end = \" \")\n",
    "    isPrime(p)"
   ]
  },
  {
   "cell_type": "markdown",
   "metadata": {},
   "source": [
    "# Task 6"
   ]
  },
  {
   "cell_type": "code",
   "execution_count": 62,
   "metadata": {},
   "outputs": [
    {
     "name": "stdout",
     "output_type": "stream",
     "text": [
      "apples, banana, cake, "
     ]
    }
   ],
   "source": [
    "def shoppingList(*items):\n",
    "    for name in items:\n",
    "        print(name, end=\", \")\n",
    "\n",
    "shoppingList(\"apples\",\"banana\",\"cake\")"
   ]
  }
 ],
 "metadata": {
  "kernelspec": {
   "display_name": "Python 3",
   "language": "python",
   "name": "python3"
  },
  "language_info": {
   "codemirror_mode": {
    "name": "ipython",
    "version": 3
   },
   "file_extension": ".py",
   "mimetype": "text/x-python",
   "name": "python",
   "nbconvert_exporter": "python",
   "pygments_lexer": "ipython3",
   "version": "3.7.3"
  }
 },
 "nbformat": 4,
 "nbformat_minor": 2
}
